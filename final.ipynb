{
 "cells": [
  {
   "cell_type": "markdown",
   "id": "516c554c-88dc-45a8-a4a3-44f4c0f0f617",
   "metadata": {},
   "source": [
    "### Extracting frames from folder"
   ]
  },
  {
   "cell_type": "code",
   "execution_count": 12,
   "id": "437a7893-7f6d-497e-a30e-a1c5c733904f",
   "metadata": {
    "tags": []
   },
   "outputs": [
    {
     "name": "stdout",
     "output_type": "stream",
     "text": [
      "rm: cannot remove './frames/*': No such file or directory\n"
     ]
    }
   ],
   "source": [
    "!rm ./frames/*"
   ]
  },
  {
   "cell_type": "code",
   "execution_count": 21,
   "id": "da5c3eae-e19f-428d-bbc7-52b4f47f08d4",
   "metadata": {
    "tags": []
   },
   "outputs": [
    {
     "name": "stdout",
     "output_type": "stream",
     "text": [
      "Collecting opencv-python\n",
      "  Downloading opencv_python-4.7.0.72-cp37-abi3-manylinux_2_17_x86_64.manylinux2014_x86_64.whl (61.8 MB)\n",
      "\u001b[2K     \u001b[90m━━━━━━━━━━━━━━━━━━━━━━━━━━━━━━━━━━━━━━━━\u001b[0m \u001b[32m61.8/61.8 MB\u001b[0m \u001b[31m20.8 MB/s\u001b[0m eta \u001b[36m0:00:00\u001b[0m00:01\u001b[0m00:01\u001b[0m\n",
      "\u001b[?25hRequirement already satisfied: numpy>=1.21.2 in /usr/local/lib/python3.10/dist-packages (from opencv-python) (1.24.2)\n",
      "Installing collected packages: opencv-python\n",
      "Successfully installed opencv-python-4.7.0.72\n",
      "\u001b[33mWARNING: Running pip as the 'root' user can result in broken permissions and conflicting behaviour with the system package manager. It is recommended to use a virtual environment instead: https://pip.pypa.io/warnings/venv\u001b[0m\u001b[33m\n",
      "\u001b[0m\n",
      "\u001b[1m[\u001b[0m\u001b[34;49mnotice\u001b[0m\u001b[1;39;49m]\u001b[0m\u001b[39;49m A new release of pip is available: \u001b[0m\u001b[31;49m23.0.1\u001b[0m\u001b[39;49m -> \u001b[0m\u001b[32;49m23.1.2\u001b[0m\n",
      "\u001b[1m[\u001b[0m\u001b[34;49mnotice\u001b[0m\u001b[1;39;49m]\u001b[0m\u001b[39;49m To update, run: \u001b[0m\u001b[32;49mpython -m pip install --upgrade pip\u001b[0m\n"
     ]
    }
   ],
   "source": [
    "!pip install opencv-python"
   ]
  },
  {
   "cell_type": "code",
   "execution_count": 39,
   "id": "998bab80-17a8-4a92-925a-d782bb3708b6",
   "metadata": {
    "tags": []
   },
   "outputs": [],
   "source": [
    "MODEL_OUTPUT_PATH = \"./risultati_predictions\""
   ]
  },
  {
   "cell_type": "code",
   "execution_count": 22,
   "id": "cc95462c-3fc2-4111-bb4d-2142ffe6c03b",
   "metadata": {
    "tags": []
   },
   "outputs": [
    {
     "name": "stdout",
     "output_type": "stream",
     "text": [
      "Video path: /workspace/minini/Video-K-Net/video/video.mp4\n",
      "Frames path: /workspace/minini/Video-K-Net/frames\n",
      "Frame rate: 20\n",
      "Seconds to extract: 30\n",
      "Current working directory is /workspace/minini/Video-K-Net\n",
      "Extraction done!\n"
     ]
    }
   ],
   "source": [
    "import sys\n",
    "import cv2\n",
    "import os\n",
    "import numpy as np\n",
    "\n",
    "VIDEO_PATH = \"video/video.mp4\"\n",
    "RESULT_PATH = \"frames\"\n",
    "FRAME_RATE = 20\n",
    "SECONDS_TO_EXTRACT = 30 #if you want all the video put np.inf\n",
    "MODEL_OUTPUT_PATH = \"./risultati_predictions\"\n",
    "print(f\"Video path: {os.path.join(os.getcwd(), VIDEO_PATH)}\")\n",
    "print(f\"Frames path: {os.path.join(os.getcwd(), RESULT_PATH)}\")\n",
    "print(f\"Frame rate: {FRAME_RATE}\")\n",
    "print(f\"Seconds to extract: {SECONDS_TO_EXTRACT}\")\n",
    "print(\"Current working directory is\", os.getcwd())\n",
    "\n",
    "absolute_counter = 0\n",
    "# Open the video file\n",
    "cap = cv2.VideoCapture(VIDEO_PATH)\n",
    "\n",
    "# Get the frame rate of the video\n",
    "fps = cap.get(cv2.CAP_PROP_FPS)\n",
    "\n",
    "# Set the frame rate for extraction\n",
    "frame_rate = FRAME_RATE\n",
    "\n",
    "# Calculate the interval between frames\n",
    "interval = round(fps / frame_rate)\n",
    "\n",
    "# Initialize a counter for the extracted frames\n",
    "count = 0\n",
    "\n",
    "# Initialize a variable for the elapsed time\n",
    "elapsed_time = 0\n",
    "\n",
    "# Loop through the video frames\n",
    "\n",
    "while cap.isOpened() and elapsed_time < SECONDS_TO_EXTRACT:\n",
    "\n",
    "    \n",
    "    # Read a frame from the video\n",
    "    ret, frame = cap.read()\n",
    "\n",
    "    # Check if the frame was read successfully\n",
    "    if not ret:\n",
    "        break\n",
    "\n",
    "    # Check if the frame should be extracted\n",
    "    if count % interval == 0:\n",
    "        # Save the frame as an image file\n",
    "        cv2.imwrite(f'{RESULT_PATH}/000002_{absolute_counter:06d}_leftImg8bit.png', frame)\n",
    "        absolute_counter += 1\n",
    "\n",
    "    # Increment the frame counter and elapsed time\n",
    "    count += 1\n",
    "    elapsed_time = count / fps\n",
    "\n",
    "# Release the video capture object and close the window\n",
    "cap.release()\n",
    "cv2.destroyAllWindows()\n",
    "\n",
    "\n",
    "print(\"Extraction done!\")"
   ]
  },
  {
   "cell_type": "markdown",
   "id": "a05b5767-ba05-4417-a3c3-8d9a1a12f34e",
   "metadata": {
    "tags": []
   },
   "source": [
    "### Running inference on extracted frames"
   ]
  },
  {
   "cell_type": "code",
   "execution_count": 43,
   "id": "0c0478f0-7c06-47ca-9f51-86af526e237b",
   "metadata": {
    "tags": []
   },
   "outputs": [
    {
     "name": "stdout",
     "output_type": "stream",
     "text": [
      "rm: cannot remove './risultati_predictions/*': No such file or directory\n",
      "/tmp/tmpvm_wblb2: line 3:   625 Killed                  python ./tools/inference.py configs/video_knet_kitti_step/video_knet_s3_r50_rpn_1x_kitti_step_sigmoid_stride2_mask_embed_link_ffn_joint_train.py ./weights/knet_city_step_pan_r50.pth --show-dir ./risultati_predictions\n",
      "ERROR conda.cli.main_run:execute(47): `conda run python ./tools/inference.py configs/video_knet_kitti_step/video_knet_s3_r50_rpn_1x_kitti_step_sigmoid_stride2_mask_embed_link_ffn_joint_train.py ./weights/knet_city_step_pan_r50.pth --show-dir ./risultati_predictions` failed. (See above for error)\n"
     ]
    }
   ],
   "source": [
    "!rm ./data/inference_folder/video_sequence/val/* #emptying the folder\n",
    "\n",
    "!cp ./frames/* ./data/inference_folder/video_sequence/val #copying the frames to the folder (we are assuming you already generated them with notebook\n",
    "\n",
    "os.environ[\"MODEL_OUTPUT_PATH\"] = MODEL_OUTPUT_PATH\n",
    "\n",
    "!rm -r $MODEL_OUTPUT_PATH/* #we empty the prediction folder\n",
    "\n",
    "!bash ./tools/inference.sh configs/video_knet_kitti_step/video_knet_s3_r50_rpn_1x_kitti_step_sigmoid_stride2_mask_embed_link_ffn_joint_train.py ./weights/knet_city_step_pan_r50.pth ./risultati_predictions prova_da_sh  #running the inference"
   ]
  },
  {
   "cell_type": "code",
   "execution_count": 24,
   "id": "9a6c8324-9af3-48fc-9e7e-26c2a970de05",
   "metadata": {
    "tags": []
   },
   "outputs": [],
   "source": [
    "os.environ[\"CAZZO\"] = \"./frames\""
   ]
  },
  {
   "cell_type": "code",
   "execution_count": 37,
   "id": "36735d37-0e03-4b54-8ae9-67d42625525a",
   "metadata": {
    "tags": []
   },
   "outputs": [
    {
     "name": "stdout",
     "output_type": "stream",
     "text": [
      "/usr/bin/sh: 1: source: not found\n"
     ]
    }
   ],
   "source": [
    "!/workspace/miniconda3/bin/conda activate prova_da_sh && /workspace/miniconda3/bin/conda env list"
   ]
  },
  {
   "cell_type": "code",
   "execution_count": 26,
   "id": "949be6d5-dfdd-4ed4-902a-b42729b524d4",
   "metadata": {
    "tags": []
   },
   "outputs": [
    {
     "name": "stdout",
     "output_type": "stream",
     "text": [
      "./frames\n"
     ]
    }
   ],
   "source": [
    "!echo $CAZZO"
   ]
  }
 ],
 "metadata": {
  "kernelspec": {
   "display_name": "Python 3 (ipykernel)",
   "language": "python",
   "name": "python3"
  },
  "language_info": {
   "codemirror_mode": {
    "name": "ipython",
    "version": 3
   },
   "file_extension": ".py",
   "mimetype": "text/x-python",
   "name": "python",
   "nbconvert_exporter": "python",
   "pygments_lexer": "ipython3",
   "version": "3.10.10"
  }
 },
 "nbformat": 4,
 "nbformat_minor": 5
}
